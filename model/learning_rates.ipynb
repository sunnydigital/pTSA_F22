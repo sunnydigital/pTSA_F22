{
 "cells": [
  {
   "cell_type": "code",
   "execution_count": 1,
   "metadata": {},
   "outputs": [],
   "source": [
    "from neuralprophet import NeuralProphet, set_random_seed, set_log_level; set_random_seed(314159); set_log_level(\"ERROR\", \"INFO\")\n",
    "from neuralprophet.df_utils import make_future_df, fill_linear_then_rolling_avg, add_missing_dates_nan\n",
    "\n",
    "import pandas as pd\n",
    "import numpy as np\n",
    "\n",
    "import statsmodels.api as sm\n",
    "\n",
    "from sklearn.model_selection import train_test_split\n",
    "from sklearn.preprocessing import StandardScaler, MinMaxScaler\n",
    "\n",
    "import matplotlib.pyplot as plt\n",
    "import seaborn as sns; sns.set_theme(color_codes=True); sns.set_style(\"whitegrid\")\n",
    "\n",
    "import time\n",
    "\n",
    "from collections import defaultdict\n",
    "\n",
    "import copy\n",
    "\n",
    "import pickle"
   ]
  },
  {
   "cell_type": "markdown",
   "metadata": {},
   "source": [
    "## Reading Data\n",
    "\n",
    "Below we read in the data for train, val and test as well as the associated historical dataframe"
   ]
  },
  {
   "cell_type": "code",
   "execution_count": 2,
   "metadata": {},
   "outputs": [],
   "source": [
    "IT_sector_historical = pd.read_csv('../data_processing/it_history.csv', index_col=0)"
   ]
  },
  {
   "cell_type": "code",
   "execution_count": 20,
   "metadata": {},
   "outputs": [],
   "source": [
    "col = {\n",
    "    'index': 'ds',\n",
    "    0: 'GEN',\n",
    "    1: 'MSI',\n",
    "    2: 'JKHY',\n",
    "    3: 'APH',\n",
    "    4: 'IBM',\n",
    "    5: 'AKAM',\n",
    "    6: 'MSFT',\n",
    "    7: 'STX',\n",
    "    8: 'AAPL',\n",
    "    9: 'AMAT',\n",
    "    10: 'TEL'\n",
    "}"
   ]
  },
  {
   "cell_type": "code",
   "execution_count": 22,
   "metadata": {},
   "outputs": [],
   "source": [
    "train = pd.read_csv('../data_processing/train_final.csv', index_col=0).T.reset_index(level=0).rename(columns=col)\n",
    "val = pd.read_csv('../data_processing/val_final.csv', index_col=0).T.iloc[1:,:].reset_index(level=0).rename(columns=col)\n",
    "test = pd.read_csv('../data_processing/test_final.csv', index_col=0).T.reset_index(level=0).rename(columns=col)"
   ]
  }
 ],
 "metadata": {
  "kernelspec": {
   "display_name": "pTSA",
   "language": "python",
   "name": "python3"
  },
  "language_info": {
   "codemirror_mode": {
    "name": "ipython",
    "version": 3
   },
   "file_extension": ".py",
   "mimetype": "text/x-python",
   "name": "python",
   "nbconvert_exporter": "python",
   "pygments_lexer": "ipython3",
   "version": "3.10.8"
  },
  "orig_nbformat": 4,
  "vscode": {
   "interpreter": {
    "hash": "f225d3845045c3207b1ee1667b1e6c94b5f8ebe88a42440efeea653899a0d2d3"
   }
  }
 },
 "nbformat": 4,
 "nbformat_minor": 2
}
