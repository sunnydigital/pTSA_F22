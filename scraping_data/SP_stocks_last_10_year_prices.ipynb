{
  "nbformat": 4,
  "nbformat_minor": 0,
  "metadata": {
    "colab": {
      "private_outputs": true,
      "provenance": [],
      "include_colab_link": true
    },
    "kernelspec": {
      "name": "python3",
      "display_name": "Python 3"
    },
    "language_info": {
      "name": "python"
    }
  },
  "cells": [
    {
      "cell_type": "markdown",
      "metadata": {
        "id": "view-in-github",
        "colab_type": "text"
      },
      "source": [
        "<a href=\"https://colab.research.google.com/github/sunnydigital/pTSA_F22/blob/main/scraping_data/SP_stocks_last_10_year_prices.ipynb\" target=\"_parent\"><img src=\"https://colab.research.google.com/assets/colab-badge.svg\" alt=\"Open In Colab\"/></a>"
      ]
    },
    {
      "cell_type": "code",
      "execution_count": null,
      "metadata": {
        "id": "o7rRMjGKGnBk"
      },
      "outputs": [],
      "source": [
        "!pip install yfinance\n",
        "!pip install pandas_datareader --upgrade"
      ]
    },
    {
      "cell_type": "code",
      "source": [
        "import pandas_datareader.data as reader\n",
        "import statsmodels.api as sm\n",
        "from tqdm import tqdm\n",
        "import urllib.request\n",
        "import datetime as dt\n",
        "import yfinance as yf\n",
        "import pandas as pd\n",
        "import numpy as np\n",
        "import json\n",
        "import time\n",
        "import os\n",
        "\n",
        "import requests\n",
        "from bs4 import BeautifulSoup\n",
        "\n",
        "from sklearn.preprocessing import LabelEncoder as le\n",
        "\n",
        "import csv"
      ],
      "metadata": {
        "id": "IPK1V4Q2H1bN"
      },
      "execution_count": null,
      "outputs": []
    },
    {
      "cell_type": "code",
      "source": [
        "%cd /content\n",
        "!rm -rf pTSA_F22\n",
        "!git clone https://github.com/sunnydigital/pTSA_F22\n",
        "%cd pTSA_F22"
      ],
      "metadata": {
        "id": "blv-MdpoH216"
      },
      "execution_count": null,
      "outputs": []
    },
    {
      "cell_type": "code",
      "source": [
        "from google.colab import drive\n",
        "drive.mount('/content/drive')"
      ],
      "metadata": {
        "id": "xwOS5AeDH48Q"
      },
      "execution_count": null,
      "outputs": []
    },
    {
      "cell_type": "markdown",
      "source": [
        "## Read In `.csv`\n",
        "---\n",
        "\n"
      ],
      "metadata": {
        "id": "trffOy7KVDh6"
      }
    },
    {
      "cell_type": "code",
      "source": [
        "SP_sector_df = pd.read_csv('./scraping_data/SP_df.csv')\n",
        "SP_sector_list = SP_sector_df['Symbol'].tolist()"
      ],
      "metadata": {
        "id": "KwMlijgSUTBL"
      },
      "execution_count": null,
      "outputs": []
    },
    {
      "cell_type": "markdown",
      "source": [
        "### Define lambda Function to get Sector\n",
        "---\n",
        "\n"
      ],
      "metadata": {
        "id": "39nS7hOzcRlo"
      }
    },
    {
      "cell_type": "code",
      "source": [
        "sector_map = lambda x: SP_sector_df[x, 'GICS Sector']"
      ],
      "metadata": {
        "id": "0XSWvYKIbwJk"
      },
      "execution_count": null,
      "outputs": []
    },
    {
      "cell_type": "code",
      "source": [
        "data = yf.download( # or pdr.get_data_yahoo(...\n",
        "                    # tickers list or string as well\n",
        "                    tickers = SP_sector_list,\n",
        "\n",
        "                    # use \"period\" instead of start/end\n",
        "                    # valid periods: 1d,5d,1mo,3mo,6mo,1y,2y,5y,10y,ytd,max\n",
        "                    # (optional, default is '1mo')\n",
        "                    period = \"10y\",\n",
        "\n",
        "                    # fetch data by interval (including intraday if period < 60 days)\n",
        "                    # valid intervals: 1m,2m,5m,15m,30m,60m,90m,1h,1d,5d,1wk,1mo,3mo\n",
        "                    # (optional, default is '1d')\n",
        "                    interval = \"1d\",\n",
        "\n",
        "                    # Whether to ignore timezone when aligning ticker data from \n",
        "                    # different timezones. Default is True. False may be useful for \n",
        "                    # minute/hourly data.\n",
        "                    ignore_tz = True,\n",
        "\n",
        "                    # group by ticker (to access via data['SPY'])\n",
        "                    # (optional, default is 'column')\n",
        "                    group_by = 'ticker',\n",
        "\n",
        "                    # adjust all OHLC automatically\n",
        "                    # (optional, default is False)\n",
        "                    auto_adjust = True,\n",
        "\n",
        "                    # download pre/post regular market hours data\n",
        "                    # (optional, default is False)\n",
        "                    prepost = True,\n",
        "\n",
        "                    # use threads for mass downloading? (True/False/Integer)\n",
        "                    # (optional, default is True)\n",
        "                    threads = True,\n",
        "\n",
        "                    # proxy URL scheme use use when downloading?\n",
        "                    # (optional, default is None)\n",
        "                    proxy = None\n",
        ")"
      ],
      "metadata": {
        "id": "HoX3_f5-lbUH"
      },
      "execution_count": null,
      "outputs": []
    },
    {
      "cell_type": "code",
      "source": [
        "data.to_csv('./scraping_data/SP_df_historical_daily.csv')"
      ],
      "metadata": {
        "id": "FwMRhj8Vlq-Y"
      },
      "execution_count": null,
      "outputs": []
    }
  ]
}