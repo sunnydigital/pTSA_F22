{
  "nbformat": 4,
  "nbformat_minor": 0,
  "metadata": {
    "colab": {
      "private_outputs": true,
      "provenance": [],
      "collapsed_sections": []
    },
    "kernelspec": {
      "name": "python3",
      "display_name": "Python 3"
    },
    "language_info": {
      "name": "python"
    }
  },
  "cells": [
    {
      "cell_type": "code",
      "execution_count": null,
      "metadata": {
        "id": "dtdElcRdqW-r"
      },
      "outputs": [],
      "source": [
        "!pip install yfinance\n",
        "!pip install pandas_datareader --upgrade"
      ]
    },
    {
      "cell_type": "code",
      "source": [
        "import pandas_datareader.data as reader\n",
        "import statsmodels.api as sm\n",
        "from tqdm import tqdm\n",
        "import urllib.request\n",
        "import datetime as dt\n",
        "import yfinance as yf\n",
        "import pandas as pd\n",
        "import numpy as np\n",
        "import json\n",
        "import time\n",
        "import os\n",
        "\n",
        "import requests\n",
        "from bs4 import BeautifulSoup\n",
        "\n",
        "from sklearn.preprocessing import LabelEncoder as le\n",
        "\n",
        "import csv"
      ],
      "metadata": {
        "id": "JSLIVPF2r3FW"
      },
      "execution_count": null,
      "outputs": []
    },
    {
      "cell_type": "code",
      "source": [
        "%cd /content\n",
        "!rm -rf pTSA_F22\n",
        "!git clone https://github.com/sunnydigital/pTSA_F22\n",
        "%cd pTSA_F22"
      ],
      "metadata": {
        "id": "aBjmXIc7v5_c"
      },
      "execution_count": null,
      "outputs": []
    },
    {
      "cell_type": "code",
      "source": [
        "from google.colab import drive\n",
        "drive.mount('/content/drive')"
      ],
      "metadata": {
        "id": "mzq4K1QlwBMO"
      },
      "execution_count": null,
      "outputs": []
    },
    {
      "cell_type": "code",
      "source": [
        "# get the response in the form of html\n",
        "URL=\"https://en.wikipedia.org/wiki/List_of_S%26P_500_companies\"\n",
        "table_class=\"wikitable sortable jquery-tablesorter\"\n",
        "response=requests.get(URL)\n",
        "print(response.status_code)"
      ],
      "metadata": {
        "id": "EvJekX2y2XEt"
      },
      "execution_count": null,
      "outputs": []
    },
    {
      "cell_type": "code",
      "source": [
        "soup = BeautifulSoup(response.text, 'html.parser')\n",
        "table = soup.find('table',{'class':\"wikitable\"})\n",
        "table"
      ],
      "metadata": {
        "id": "f24_krNozwnh"
      },
      "execution_count": null,
      "outputs": []
    },
    {
      "cell_type": "code",
      "source": [
        "SP_df = pd.read_html(str(table))\n",
        "SP_df = pd.DataFrame(SP_df[0])\n",
        "SP_df.set_index('Symbol', inplace=True)\n",
        "SP_df"
      ],
      "metadata": {
        "id": "v4pIHOU825Zl"
      },
      "execution_count": null,
      "outputs": []
    },
    {
      "cell_type": "markdown",
      "source": [
        "## Saving S&P 500 Dataframe\n",
        "---\n",
        "\n"
      ],
      "metadata": {
        "id": "ZpjaRhCiCL4S"
      }
    },
    {
      "cell_type": "code",
      "source": [
        "SP_df.to_csv('data/SP_df.csv')"
      ],
      "metadata": {
        "id": "BXbnYlovAmC2"
      },
      "execution_count": null,
      "outputs": []
    }
  ]
}